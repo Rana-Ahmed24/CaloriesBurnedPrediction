{
 "cells": [
  {
   "cell_type": "code",
   "execution_count": 1,
   "id": "5a996303",
   "metadata": {},
   "outputs": [
    {
     "name": "stderr",
     "output_type": "stream",
     "text": [
      "C:\\Users\\HP\\AppData\\Local\\Temp\\ipykernel_25144\\321796212.py:17: MatplotlibDeprecationWarning: The seaborn styles shipped by Matplotlib are deprecated since 3.6, as they no longer correspond to the styles shipped by seaborn. However, they will remain available as 'seaborn-v0_8-<style>'. Alternatively, directly use the seaborn API instead.\n",
      "  style.use(\"seaborn\")\n"
     ]
    }
   ],
   "source": [
    "import numpy as np\n",
    "import matplotlib.pyplot as plt\n",
    "import seaborn as sns\n",
    "import pandas as pd\n",
    "from sklearn.model_selection import train_test_split , GridSearchCV\n",
    "from sklearn.metrics import mean_squared_error\n",
    "from sklearn.preprocessing import StandardScaler\n",
    "from sklearn.ensemble import RandomForestRegressor\n",
    "from sklearn import metrics\n",
    "\n",
    "\n",
    "from xgboost import XGBRegressor\n",
    "from sklearn import metrics\n",
    "\n",
    "%matplotlib inline\n",
    "from matplotlib import style\n",
    "style.use(\"seaborn\")\n",
    "\n",
    "from IPython.display import HTML\n",
    "import plotly.express as px\n",
    "\n",
    "import warnings\n",
    "warnings.filterwarnings('ignore')"
   ]
  },
  {
   "cell_type": "code",
   "execution_count": 2,
   "id": "4ef0e587",
   "metadata": {},
   "outputs": [],
   "source": [
    "calories = pd.read_csv(\"calories.csv\")\n",
    "exercise = pd.read_csv(\"exercise.csv\")"
   ]
  },
  {
   "cell_type": "code",
   "execution_count": 3,
   "id": "a372a43d",
   "metadata": {},
   "outputs": [
    {
     "data": {
      "text/html": [
       "<div>\n",
       "<style scoped>\n",
       "    .dataframe tbody tr th:only-of-type {\n",
       "        vertical-align: middle;\n",
       "    }\n",
       "\n",
       "    .dataframe tbody tr th {\n",
       "        vertical-align: top;\n",
       "    }\n",
       "\n",
       "    .dataframe thead th {\n",
       "        text-align: right;\n",
       "    }\n",
       "</style>\n",
       "<table border=\"1\" class=\"dataframe\">\n",
       "  <thead>\n",
       "    <tr style=\"text-align: right;\">\n",
       "      <th></th>\n",
       "      <th>User_ID</th>\n",
       "      <th>Calories</th>\n",
       "    </tr>\n",
       "  </thead>\n",
       "  <tbody>\n",
       "    <tr>\n",
       "      <th>0</th>\n",
       "      <td>14733363</td>\n",
       "      <td>231.0</td>\n",
       "    </tr>\n",
       "    <tr>\n",
       "      <th>1</th>\n",
       "      <td>14861698</td>\n",
       "      <td>66.0</td>\n",
       "    </tr>\n",
       "    <tr>\n",
       "      <th>2</th>\n",
       "      <td>11179863</td>\n",
       "      <td>26.0</td>\n",
       "    </tr>\n",
       "    <tr>\n",
       "      <th>3</th>\n",
       "      <td>16180408</td>\n",
       "      <td>71.0</td>\n",
       "    </tr>\n",
       "    <tr>\n",
       "      <th>4</th>\n",
       "      <td>17771927</td>\n",
       "      <td>35.0</td>\n",
       "    </tr>\n",
       "  </tbody>\n",
       "</table>\n",
       "</div>"
      ],
      "text/plain": [
       "    User_ID  Calories\n",
       "0  14733363     231.0\n",
       "1  14861698      66.0\n",
       "2  11179863      26.0\n",
       "3  16180408      71.0\n",
       "4  17771927      35.0"
      ]
     },
     "execution_count": 3,
     "metadata": {},
     "output_type": "execute_result"
    }
   ],
   "source": [
    "calories.head()"
   ]
  },
  {
   "cell_type": "code",
   "execution_count": 4,
   "id": "19cfb8b2",
   "metadata": {},
   "outputs": [
    {
     "data": {
      "text/html": [
       "<div>\n",
       "<style scoped>\n",
       "    .dataframe tbody tr th:only-of-type {\n",
       "        vertical-align: middle;\n",
       "    }\n",
       "\n",
       "    .dataframe tbody tr th {\n",
       "        vertical-align: top;\n",
       "    }\n",
       "\n",
       "    .dataframe thead th {\n",
       "        text-align: right;\n",
       "    }\n",
       "</style>\n",
       "<table border=\"1\" class=\"dataframe\">\n",
       "  <thead>\n",
       "    <tr style=\"text-align: right;\">\n",
       "      <th></th>\n",
       "      <th>User_ID</th>\n",
       "      <th>Gender</th>\n",
       "      <th>Age</th>\n",
       "      <th>Height</th>\n",
       "      <th>Weight</th>\n",
       "      <th>Duration</th>\n",
       "      <th>Heart_Rate</th>\n",
       "      <th>Body_Temp</th>\n",
       "    </tr>\n",
       "  </thead>\n",
       "  <tbody>\n",
       "    <tr>\n",
       "      <th>0</th>\n",
       "      <td>14733363</td>\n",
       "      <td>male</td>\n",
       "      <td>68</td>\n",
       "      <td>190.0</td>\n",
       "      <td>94.0</td>\n",
       "      <td>29.0</td>\n",
       "      <td>105.0</td>\n",
       "      <td>40.8</td>\n",
       "    </tr>\n",
       "    <tr>\n",
       "      <th>1</th>\n",
       "      <td>14861698</td>\n",
       "      <td>female</td>\n",
       "      <td>20</td>\n",
       "      <td>166.0</td>\n",
       "      <td>60.0</td>\n",
       "      <td>14.0</td>\n",
       "      <td>94.0</td>\n",
       "      <td>40.3</td>\n",
       "    </tr>\n",
       "    <tr>\n",
       "      <th>2</th>\n",
       "      <td>11179863</td>\n",
       "      <td>male</td>\n",
       "      <td>69</td>\n",
       "      <td>179.0</td>\n",
       "      <td>79.0</td>\n",
       "      <td>5.0</td>\n",
       "      <td>88.0</td>\n",
       "      <td>38.7</td>\n",
       "    </tr>\n",
       "    <tr>\n",
       "      <th>3</th>\n",
       "      <td>16180408</td>\n",
       "      <td>female</td>\n",
       "      <td>34</td>\n",
       "      <td>179.0</td>\n",
       "      <td>71.0</td>\n",
       "      <td>13.0</td>\n",
       "      <td>100.0</td>\n",
       "      <td>40.5</td>\n",
       "    </tr>\n",
       "    <tr>\n",
       "      <th>4</th>\n",
       "      <td>17771927</td>\n",
       "      <td>female</td>\n",
       "      <td>27</td>\n",
       "      <td>154.0</td>\n",
       "      <td>58.0</td>\n",
       "      <td>10.0</td>\n",
       "      <td>81.0</td>\n",
       "      <td>39.8</td>\n",
       "    </tr>\n",
       "  </tbody>\n",
       "</table>\n",
       "</div>"
      ],
      "text/plain": [
       "    User_ID  Gender  Age  Height  Weight  Duration  Heart_Rate  Body_Temp\n",
       "0  14733363    male   68   190.0    94.0      29.0       105.0       40.8\n",
       "1  14861698  female   20   166.0    60.0      14.0        94.0       40.3\n",
       "2  11179863    male   69   179.0    79.0       5.0        88.0       38.7\n",
       "3  16180408  female   34   179.0    71.0      13.0       100.0       40.5\n",
       "4  17771927  female   27   154.0    58.0      10.0        81.0       39.8"
      ]
     },
     "execution_count": 4,
     "metadata": {},
     "output_type": "execute_result"
    }
   ],
   "source": [
    "exercise.head()"
   ]
  },
  {
   "cell_type": "code",
   "execution_count": 5,
   "id": "54042b4b",
   "metadata": {},
   "outputs": [
    {
     "data": {
      "text/html": [
       "<div>\n",
       "<style scoped>\n",
       "    .dataframe tbody tr th:only-of-type {\n",
       "        vertical-align: middle;\n",
       "    }\n",
       "\n",
       "    .dataframe tbody tr th {\n",
       "        vertical-align: top;\n",
       "    }\n",
       "\n",
       "    .dataframe thead th {\n",
       "        text-align: right;\n",
       "    }\n",
       "</style>\n",
       "<table border=\"1\" class=\"dataframe\">\n",
       "  <thead>\n",
       "    <tr style=\"text-align: right;\">\n",
       "      <th></th>\n",
       "      <th>User_ID</th>\n",
       "      <th>Gender</th>\n",
       "      <th>Age</th>\n",
       "      <th>Height</th>\n",
       "      <th>Weight</th>\n",
       "      <th>Duration</th>\n",
       "      <th>Heart_Rate</th>\n",
       "      <th>Body_Temp</th>\n",
       "      <th>Calories</th>\n",
       "    </tr>\n",
       "  </thead>\n",
       "  <tbody>\n",
       "    <tr>\n",
       "      <th>0</th>\n",
       "      <td>14733363</td>\n",
       "      <td>male</td>\n",
       "      <td>68</td>\n",
       "      <td>190.0</td>\n",
       "      <td>94.0</td>\n",
       "      <td>29.0</td>\n",
       "      <td>105.0</td>\n",
       "      <td>40.8</td>\n",
       "      <td>231.0</td>\n",
       "    </tr>\n",
       "    <tr>\n",
       "      <th>1</th>\n",
       "      <td>14861698</td>\n",
       "      <td>female</td>\n",
       "      <td>20</td>\n",
       "      <td>166.0</td>\n",
       "      <td>60.0</td>\n",
       "      <td>14.0</td>\n",
       "      <td>94.0</td>\n",
       "      <td>40.3</td>\n",
       "      <td>66.0</td>\n",
       "    </tr>\n",
       "    <tr>\n",
       "      <th>2</th>\n",
       "      <td>11179863</td>\n",
       "      <td>male</td>\n",
       "      <td>69</td>\n",
       "      <td>179.0</td>\n",
       "      <td>79.0</td>\n",
       "      <td>5.0</td>\n",
       "      <td>88.0</td>\n",
       "      <td>38.7</td>\n",
       "      <td>26.0</td>\n",
       "    </tr>\n",
       "    <tr>\n",
       "      <th>3</th>\n",
       "      <td>16180408</td>\n",
       "      <td>female</td>\n",
       "      <td>34</td>\n",
       "      <td>179.0</td>\n",
       "      <td>71.0</td>\n",
       "      <td>13.0</td>\n",
       "      <td>100.0</td>\n",
       "      <td>40.5</td>\n",
       "      <td>71.0</td>\n",
       "    </tr>\n",
       "    <tr>\n",
       "      <th>4</th>\n",
       "      <td>17771927</td>\n",
       "      <td>female</td>\n",
       "      <td>27</td>\n",
       "      <td>154.0</td>\n",
       "      <td>58.0</td>\n",
       "      <td>10.0</td>\n",
       "      <td>81.0</td>\n",
       "      <td>39.8</td>\n",
       "      <td>35.0</td>\n",
       "    </tr>\n",
       "  </tbody>\n",
       "</table>\n",
       "</div>"
      ],
      "text/plain": [
       "    User_ID  Gender  Age  Height  Weight  Duration  Heart_Rate  Body_Temp  \\\n",
       "0  14733363    male   68   190.0    94.0      29.0       105.0       40.8   \n",
       "1  14861698  female   20   166.0    60.0      14.0        94.0       40.3   \n",
       "2  11179863    male   69   179.0    79.0       5.0        88.0       38.7   \n",
       "3  16180408  female   34   179.0    71.0      13.0       100.0       40.5   \n",
       "4  17771927  female   27   154.0    58.0      10.0        81.0       39.8   \n",
       "\n",
       "   Calories  \n",
       "0     231.0  \n",
       "1      66.0  \n",
       "2      26.0  \n",
       "3      71.0  \n",
       "4      35.0  "
      ]
     },
     "execution_count": 5,
     "metadata": {},
     "output_type": "execute_result"
    }
   ],
   "source": [
    "exercise_df = exercise.merge(calories , on = \"User_ID\")\n",
    "exercise_df.head()"
   ]
  },
  {
   "cell_type": "code",
   "execution_count": 6,
   "id": "c9cdd953",
   "metadata": {},
   "outputs": [
    {
     "name": "stdout",
     "output_type": "stream",
     "text": [
      "<class 'pandas.core.frame.DataFrame'>\n",
      "RangeIndex: 15000 entries, 0 to 14999\n",
      "Data columns (total 9 columns):\n",
      " #   Column      Non-Null Count  Dtype  \n",
      "---  ------      --------------  -----  \n",
      " 0   User_ID     15000 non-null  int64  \n",
      " 1   Gender      15000 non-null  object \n",
      " 2   Age         15000 non-null  int64  \n",
      " 3   Height      15000 non-null  float64\n",
      " 4   Weight      15000 non-null  float64\n",
      " 5   Duration    15000 non-null  float64\n",
      " 6   Heart_Rate  15000 non-null  float64\n",
      " 7   Body_Temp   15000 non-null  float64\n",
      " 8   Calories    15000 non-null  float64\n",
      "dtypes: float64(6), int64(2), object(1)\n",
      "memory usage: 1.0+ MB\n"
     ]
    }
   ],
   "source": [
    "exercise_df.info()"
   ]
  },
  {
   "cell_type": "code",
   "execution_count": 7,
   "id": "360d5767",
   "metadata": {},
   "outputs": [
    {
     "data": {
      "text/html": [
       "<div>\n",
       "<style scoped>\n",
       "    .dataframe tbody tr th:only-of-type {\n",
       "        vertical-align: middle;\n",
       "    }\n",
       "\n",
       "    .dataframe tbody tr th {\n",
       "        vertical-align: top;\n",
       "    }\n",
       "\n",
       "    .dataframe thead th {\n",
       "        text-align: right;\n",
       "    }\n",
       "</style>\n",
       "<table border=\"1\" class=\"dataframe\">\n",
       "  <thead>\n",
       "    <tr style=\"text-align: right;\">\n",
       "      <th></th>\n",
       "      <th>User_ID</th>\n",
       "      <th>Age</th>\n",
       "      <th>Height</th>\n",
       "      <th>Weight</th>\n",
       "      <th>Duration</th>\n",
       "      <th>Heart_Rate</th>\n",
       "      <th>Body_Temp</th>\n",
       "      <th>Calories</th>\n",
       "    </tr>\n",
       "  </thead>\n",
       "  <tbody>\n",
       "    <tr>\n",
       "      <th>count</th>\n",
       "      <td>1.500000e+04</td>\n",
       "      <td>15000.000000</td>\n",
       "      <td>15000.000000</td>\n",
       "      <td>15000.000000</td>\n",
       "      <td>15000.000000</td>\n",
       "      <td>15000.000000</td>\n",
       "      <td>15000.000000</td>\n",
       "      <td>15000.000000</td>\n",
       "    </tr>\n",
       "    <tr>\n",
       "      <th>mean</th>\n",
       "      <td>1.497736e+07</td>\n",
       "      <td>42.789800</td>\n",
       "      <td>174.465133</td>\n",
       "      <td>74.966867</td>\n",
       "      <td>15.530600</td>\n",
       "      <td>95.518533</td>\n",
       "      <td>40.025453</td>\n",
       "      <td>89.539533</td>\n",
       "    </tr>\n",
       "    <tr>\n",
       "      <th>std</th>\n",
       "      <td>2.872851e+06</td>\n",
       "      <td>16.980264</td>\n",
       "      <td>14.258114</td>\n",
       "      <td>15.035657</td>\n",
       "      <td>8.319203</td>\n",
       "      <td>9.583328</td>\n",
       "      <td>0.779230</td>\n",
       "      <td>62.456978</td>\n",
       "    </tr>\n",
       "    <tr>\n",
       "      <th>min</th>\n",
       "      <td>1.000116e+07</td>\n",
       "      <td>20.000000</td>\n",
       "      <td>123.000000</td>\n",
       "      <td>36.000000</td>\n",
       "      <td>1.000000</td>\n",
       "      <td>67.000000</td>\n",
       "      <td>37.100000</td>\n",
       "      <td>1.000000</td>\n",
       "    </tr>\n",
       "    <tr>\n",
       "      <th>25%</th>\n",
       "      <td>1.247419e+07</td>\n",
       "      <td>28.000000</td>\n",
       "      <td>164.000000</td>\n",
       "      <td>63.000000</td>\n",
       "      <td>8.000000</td>\n",
       "      <td>88.000000</td>\n",
       "      <td>39.600000</td>\n",
       "      <td>35.000000</td>\n",
       "    </tr>\n",
       "    <tr>\n",
       "      <th>50%</th>\n",
       "      <td>1.499728e+07</td>\n",
       "      <td>39.000000</td>\n",
       "      <td>175.000000</td>\n",
       "      <td>74.000000</td>\n",
       "      <td>16.000000</td>\n",
       "      <td>96.000000</td>\n",
       "      <td>40.200000</td>\n",
       "      <td>79.000000</td>\n",
       "    </tr>\n",
       "    <tr>\n",
       "      <th>75%</th>\n",
       "      <td>1.744928e+07</td>\n",
       "      <td>56.000000</td>\n",
       "      <td>185.000000</td>\n",
       "      <td>87.000000</td>\n",
       "      <td>23.000000</td>\n",
       "      <td>103.000000</td>\n",
       "      <td>40.600000</td>\n",
       "      <td>138.000000</td>\n",
       "    </tr>\n",
       "    <tr>\n",
       "      <th>max</th>\n",
       "      <td>1.999965e+07</td>\n",
       "      <td>79.000000</td>\n",
       "      <td>222.000000</td>\n",
       "      <td>132.000000</td>\n",
       "      <td>30.000000</td>\n",
       "      <td>128.000000</td>\n",
       "      <td>41.500000</td>\n",
       "      <td>314.000000</td>\n",
       "    </tr>\n",
       "  </tbody>\n",
       "</table>\n",
       "</div>"
      ],
      "text/plain": [
       "            User_ID           Age        Height        Weight      Duration  \\\n",
       "count  1.500000e+04  15000.000000  15000.000000  15000.000000  15000.000000   \n",
       "mean   1.497736e+07     42.789800    174.465133     74.966867     15.530600   \n",
       "std    2.872851e+06     16.980264     14.258114     15.035657      8.319203   \n",
       "min    1.000116e+07     20.000000    123.000000     36.000000      1.000000   \n",
       "25%    1.247419e+07     28.000000    164.000000     63.000000      8.000000   \n",
       "50%    1.499728e+07     39.000000    175.000000     74.000000     16.000000   \n",
       "75%    1.744928e+07     56.000000    185.000000     87.000000     23.000000   \n",
       "max    1.999965e+07     79.000000    222.000000    132.000000     30.000000   \n",
       "\n",
       "         Heart_Rate     Body_Temp      Calories  \n",
       "count  15000.000000  15000.000000  15000.000000  \n",
       "mean      95.518533     40.025453     89.539533  \n",
       "std        9.583328      0.779230     62.456978  \n",
       "min       67.000000     37.100000      1.000000  \n",
       "25%       88.000000     39.600000     35.000000  \n",
       "50%       96.000000     40.200000     79.000000  \n",
       "75%      103.000000     40.600000    138.000000  \n",
       "max      128.000000     41.500000    314.000000  "
      ]
     },
     "execution_count": 7,
     "metadata": {},
     "output_type": "execute_result"
    }
   ],
   "source": [
    "exercise_df.describe()"
   ]
  },
  {
   "cell_type": "code",
   "execution_count": 8,
   "id": "d7aa1ac5",
   "metadata": {},
   "outputs": [
    {
     "name": "stdout",
     "output_type": "stream",
     "text": [
      "This dataset has  15000  instances and  9  columns.\n"
     ]
    }
   ],
   "source": [
    "print(\"This dataset has \" , exercise_df.shape[0] ,\" instances and \",  exercise_df.shape[1] , \" columns.\")"
   ]
  },
  {
   "cell_type": "code",
   "execution_count": 9,
   "id": "68a24f6b",
   "metadata": {},
   "outputs": [
    {
     "data": {
      "text/plain": [
       "<Axes: xlabel='Age'>"
      ]
     },
     "execution_count": 9,
     "metadata": {},
     "output_type": "execute_result"
    },
    {
     "data": {
      "image/png": "[encoded data removed]",
      "text/plain": [
       "<Figure size 800x550 with 1 Axes>"
      ]
     },
     "metadata": {},
     "output_type": "display_data"
    }
   ],
   "source": [
    "sns.distplot(exercise_df['Age'],kde=False)"
   ]
  },
  {
   "cell_type": "code",
   "execution_count": 10,
   "id": "16862ac9",
   "metadata": {},
   "outputs": [
    {
     "data": {
      "text/plain": [
       "<Axes: xlabel='Height'>"
      ]
     },
     "execution_count": 10,
     "metadata": {},
     "output_type": "execute_result"
    },
    {
     "data": {
      "image/png": "[encoded data removed]",
      "text/plain": [
       "<Figure size 800x550 with 1 Axes>"
      ]
     },
     "metadata": {},
     "output_type": "display_data"
    }
   ],
   "source": [
    "sns.distplot(exercise_df['Height'],kde=False,bins=30)"
   ]
  },
  {
   "cell_type": "code",
   "execution_count": 11,
   "id": "e45e271e",
   "metadata": {},
   "outputs": [
    {
     "data": {
      "text/plain": [
       "<Axes: xlabel='Weight'>"
      ]
     },
     "execution_count": 11,
     "metadata": {},
     "output_type": "execute_result"
    },
    {
     "data": {
      "image/png": "[encoded data removed]",
      "text/plain": [
       "<Figure size 800x550 with 1 Axes>"
      ]
     },
     "metadata": {},
     "output_type": "display_data"
    }
   ],
   "source": [
    "sns.distplot(exercise_df['Weight'],kde=False,bins=30)"
   ]
  },
  {
   "cell_type": "code",
   "execution_count": 12,
   "id": "206cee43",
   "metadata": {},
   "outputs": [
    {
     "data": {
      "text/plain": [
       "<Axes: xlabel='Duration'>"
      ]
     },
     "execution_count": 12,
     "metadata": {},
     "output_type": "execute_result"
    },
    {
     "data": {
      "image/png": "[encoded data removed]",
      "text/plain": [
       "<Figure size 800x550 with 1 Axes>"
      ]
     },
     "metadata": {},
     "output_type": "display_data"
    }
   ],
   "source": [
    "sns.distplot(exercise_df['Duration'],kde=False)"
   ]
  },
  {
   "cell_type": "code",
   "execution_count": 13,
   "id": "79b9e803",
   "metadata": {},
   "outputs": [
    {
     "data": {
      "text/plain": [
       "<Axes: xlabel='Heart_Rate'>"
      ]
     },
     "execution_count": 13,
     "metadata": {},
     "output_type": "execute_result"
    },
    {
     "data": {
      "image/png": "[encoded data removed]",
      "text/plain": [
       "<Figure size 800x550 with 1 Axes>"
      ]
     },
     "metadata": {},
     "output_type": "display_data"
    }
   ],
   "source": [
    "sns.distplot(exercise_df['Heart_Rate'],kde=False)"
   ]
  },
  {
   "cell_type": "code",
   "execution_count": 14,
   "id": "30c42801",
   "metadata": {},
   "outputs": [
    {
     "data": {
      "text/plain": [
       "<Axes: xlabel='Body_Temp'>"
      ]
     },
     "execution_count": 14,
     "metadata": {},
     "output_type": "execute_result"
    },
    {
     "data": {
      "image/png": "[encoded data removed]",
      "text/plain": [
       "<Figure size 800x550 with 1 Axes>"
      ]
     },
     "metadata": {},
     "output_type": "display_data"
    }
   ],
   "source": [
    "sns.distplot(exercise_df['Body_Temp'],kde=False,bins=30)"
   ]
  },
  {
   "cell_type": "code",
   "execution_count": 15,
   "id": "7c43b780",
   "metadata": {},
   "outputs": [
    {
     "data": {
      "text/plain": [
       "<Axes: xlabel='Calories'>"
      ]
     },
     "execution_count": 15,
     "metadata": {},
     "output_type": "execute_result"
    },
    {
     "data": {
      "image/png": "[encoded data removed]",
      "text/plain": [
       "<Figure size 800x550 with 1 Axes>"
      ]
     },
     "metadata": {},
     "output_type": "display_data"
    }
   ],
   "source": [
    "sns.distplot(exercise_df['Calories'],kde=False)"
   ]
  },
  {
   "cell_type": "code",
   "execution_count": 16,
   "id": "6b17673a",
   "metadata": {},
   "outputs": [
    {
     "data": {
      "text/plain": [
       "<Axes: xlabel='Gender', ylabel='count'>"
      ]
     },
     "execution_count": 16,
     "metadata": {},
     "output_type": "execute_result"
    },
    {
     "data": {
      "image/png": "[encoded data removed]",
      "text/plain": [
       "<Figure size 800x550 with 1 Axes>"
      ]
     },
     "metadata": {},
     "output_type": "display_data"
    }
   ],
   "source": [
    "sns.countplot(x='Gender', data=exercise_df)"
   ]
  },
  {
   "cell_type": "code",
   "execution_count": 17,
   "id": "5d911d64",
   "metadata": {},
   "outputs": [
    {
     "data": {
      "text/plain": [
       "<Axes: xlabel='Gender', ylabel='Height'>"
      ]
     },
     "execution_count": 17,
     "metadata": {},
     "output_type": "execute_result"
    },
    {
     "data": {
      "image/png": "[encoded data removed]",
      "text/plain": [
       "<Figure size 800x550 with 1 Axes>"
      ]
     },
     "metadata": {},
     "output_type": "display_data"
    }
   ],
   "source": [
    "sns.barplot(x='Gender', y='Height', data=exercise_df)"
   ]
  },
  {
   "cell_type": "code",
   "execution_count": 18,
   "id": "90a4fa18",
   "metadata": {},
   "outputs": [
    {
     "data": {
      "text/plain": [
       "<Axes: xlabel='Gender', ylabel='Calories'>"
      ]
     },
     "execution_count": 18,
     "metadata": {},
     "output_type": "execute_result"
    },
    {
     "data": {
      "image/png": "[encoded data removed]",
      "text/plain": [
       "<Figure size 800x550 with 1 Axes>"
      ]
     },
     "metadata": {},
     "output_type": "display_data"
    }
   ],
   "source": [
    "sns.barplot(x='Gender', y='Calories', data=exercise_df)"
   ]
  },
  {
   "cell_type": "code",
   "execution_count": 19,
   "id": "0164359f",
   "metadata": {},
   "outputs": [
    {
     "data": {
      "text/plain": [
       "<matplotlib.collections.PathCollection at 0x2651ac0a310>"
      ]
     },
     "execution_count": 19,
     "metadata": {},
     "output_type": "execute_result"
    },
    {
     "data": {
      "image/png": "[encoded data removed]",
      "text/plain": [
       "<Figure size 800x550 with 1 Axes>"
      ]
     },
     "metadata": {},
     "output_type": "display_data"
    }
   ],
   "source": [
    "plt.xlabel(\"Duration\")\n",
    "plt.ylabel(\"Calories\")\n",
    "plt.title(\"Calories burnt tio duration\")\n",
    "plt.scatter(exercise_df['Duration'],exercise_df['Calories'])"
   ]
  },
  {
   "cell_type": "code",
   "execution_count": 20,
   "id": "34c1ded9",
   "metadata": {},
   "outputs": [
    {
     "name": "stdout",
     "output_type": "stream",
     "text": [
      "The shape of dataset before dropping duplicates :  (15000, 9)\n",
      "The shape of dataset after dropping duplicates :  (15000, 9)\n"
     ]
    }
   ],
   "source": [
    "print(\"The shape of dataset before dropping duplicates : \" , exercise_df.shape)\n",
    "exercise_df.drop_duplicates(subset = ['User_ID'], keep='last' , inplace = True)    \n",
    "print(\"The shape of dataset after dropping duplicates : \" , exercise_df.shape)\n",
    "     "
   ]
  },
  {
   "cell_type": "code",
   "execution_count": 21,
   "id": "f2b5cb16",
   "metadata": {},
   "outputs": [],
   "source": [
    "exercise_df.drop(columns = \"User_ID\" , inplace = True)"
   ]
  },
  {
   "cell_type": "code",
   "execution_count": 22,
   "id": "ead153cc",
   "metadata": {},
   "outputs": [],
   "source": [
    "mylist = []\n",
    "for i in exercise_df.Gender:\n",
    "    if i == \"male\":\n",
    "        mylist.append(0)\n",
    "    elif i == \"female\":\n",
    "        mylist.append(1)\n",
    "exercise_df[\"Gender_index\"] = mylist"
   ]
  },
  {
   "cell_type": "code",
   "execution_count": 23,
   "id": "006f2e02-82bb-447c-a251-3216ad4a48ad",
   "metadata": {},
   "outputs": [],
   "source": [
    "exercise_df.drop(\"Gender\",inplace=True, axis= 1)"
   ]
  },
  {
   "cell_type": "code",
   "execution_count": 24,
   "id": "ecce053a",
   "metadata": {},
   "outputs": [
    {
     "data": {
      "text/html": [
       "<div>\n",
       "<style scoped>\n",
       "    .dataframe tbody tr th:only-of-type {\n",
       "        vertical-align: middle;\n",
       "    }\n",
       "\n",
       "    .dataframe tbody tr th {\n",
       "        vertical-align: top;\n",
       "    }\n",
       "\n",
       "    .dataframe thead th {\n",
       "        text-align: right;\n",
       "    }\n",
       "</style>\n",
       "<table border=\"1\" class=\"dataframe\">\n",
       "  <thead>\n",
       "    <tr style=\"text-align: right;\">\n",
       "      <th></th>\n",
       "      <th>Age</th>\n",
       "      <th>Height</th>\n",
       "      <th>Weight</th>\n",
       "      <th>Duration</th>\n",
       "      <th>Heart_Rate</th>\n",
       "      <th>Body_Temp</th>\n",
       "      <th>Calories</th>\n",
       "      <th>Gender_index</th>\n",
       "    </tr>\n",
       "  </thead>\n",
       "  <tbody>\n",
       "    <tr>\n",
       "      <th>0</th>\n",
       "      <td>68</td>\n",
       "      <td>190.0</td>\n",
       "      <td>94.0</td>\n",
       "      <td>29.0</td>\n",
       "      <td>105.0</td>\n",
       "      <td>40.8</td>\n",
       "      <td>231.0</td>\n",
       "      <td>0</td>\n",
       "    </tr>\n",
       "    <tr>\n",
       "      <th>1</th>\n",
       "      <td>20</td>\n",
       "      <td>166.0</td>\n",
       "      <td>60.0</td>\n",
       "      <td>14.0</td>\n",
       "      <td>94.0</td>\n",
       "      <td>40.3</td>\n",
       "      <td>66.0</td>\n",
       "      <td>1</td>\n",
       "    </tr>\n",
       "    <tr>\n",
       "      <th>2</th>\n",
       "      <td>69</td>\n",
       "      <td>179.0</td>\n",
       "      <td>79.0</td>\n",
       "      <td>5.0</td>\n",
       "      <td>88.0</td>\n",
       "      <td>38.7</td>\n",
       "      <td>26.0</td>\n",
       "      <td>0</td>\n",
       "    </tr>\n",
       "    <tr>\n",
       "      <th>3</th>\n",
       "      <td>34</td>\n",
       "      <td>179.0</td>\n",
       "      <td>71.0</td>\n",
       "      <td>13.0</td>\n",
       "      <td>100.0</td>\n",
       "      <td>40.5</td>\n",
       "      <td>71.0</td>\n",
       "      <td>1</td>\n",
       "    </tr>\n",
       "    <tr>\n",
       "      <th>4</th>\n",
       "      <td>27</td>\n",
       "      <td>154.0</td>\n",
       "      <td>58.0</td>\n",
       "      <td>10.0</td>\n",
       "      <td>81.0</td>\n",
       "      <td>39.8</td>\n",
       "      <td>35.0</td>\n",
       "      <td>1</td>\n",
       "    </tr>\n",
       "    <tr>\n",
       "      <th>...</th>\n",
       "      <td>...</td>\n",
       "      <td>...</td>\n",
       "      <td>...</td>\n",
       "      <td>...</td>\n",
       "      <td>...</td>\n",
       "      <td>...</td>\n",
       "      <td>...</td>\n",
       "      <td>...</td>\n",
       "    </tr>\n",
       "    <tr>\n",
       "      <th>14995</th>\n",
       "      <td>20</td>\n",
       "      <td>193.0</td>\n",
       "      <td>86.0</td>\n",
       "      <td>11.0</td>\n",
       "      <td>92.0</td>\n",
       "      <td>40.4</td>\n",
       "      <td>45.0</td>\n",
       "      <td>1</td>\n",
       "    </tr>\n",
       "    <tr>\n",
       "      <th>14996</th>\n",
       "      <td>27</td>\n",
       "      <td>165.0</td>\n",
       "      <td>65.0</td>\n",
       "      <td>6.0</td>\n",
       "      <td>85.0</td>\n",
       "      <td>39.2</td>\n",
       "      <td>23.0</td>\n",
       "      <td>1</td>\n",
       "    </tr>\n",
       "    <tr>\n",
       "      <th>14997</th>\n",
       "      <td>43</td>\n",
       "      <td>159.0</td>\n",
       "      <td>58.0</td>\n",
       "      <td>16.0</td>\n",
       "      <td>90.0</td>\n",
       "      <td>40.1</td>\n",
       "      <td>75.0</td>\n",
       "      <td>1</td>\n",
       "    </tr>\n",
       "    <tr>\n",
       "      <th>14998</th>\n",
       "      <td>78</td>\n",
       "      <td>193.0</td>\n",
       "      <td>97.0</td>\n",
       "      <td>2.0</td>\n",
       "      <td>84.0</td>\n",
       "      <td>38.3</td>\n",
       "      <td>11.0</td>\n",
       "      <td>0</td>\n",
       "    </tr>\n",
       "    <tr>\n",
       "      <th>14999</th>\n",
       "      <td>63</td>\n",
       "      <td>173.0</td>\n",
       "      <td>79.0</td>\n",
       "      <td>18.0</td>\n",
       "      <td>92.0</td>\n",
       "      <td>40.5</td>\n",
       "      <td>98.0</td>\n",
       "      <td>0</td>\n",
       "    </tr>\n",
       "  </tbody>\n",
       "</table>\n",
       "<p>15000 rows × 8 columns</p>\n",
       "</div>"
      ],
      "text/plain": [
       "       Age  Height  Weight  Duration  Heart_Rate  Body_Temp  Calories  \\\n",
       "0       68   190.0    94.0      29.0       105.0       40.8     231.0   \n",
       "1       20   166.0    60.0      14.0        94.0       40.3      66.0   \n",
       "2       69   179.0    79.0       5.0        88.0       38.7      26.0   \n",
       "3       34   179.0    71.0      13.0       100.0       40.5      71.0   \n",
       "4       27   154.0    58.0      10.0        81.0       39.8      35.0   \n",
       "...    ...     ...     ...       ...         ...        ...       ...   \n",
       "14995   20   193.0    86.0      11.0        92.0       40.4      45.0   \n",
       "14996   27   165.0    65.0       6.0        85.0       39.2      23.0   \n",
       "14997   43   159.0    58.0      16.0        90.0       40.1      75.0   \n",
       "14998   78   193.0    97.0       2.0        84.0       38.3      11.0   \n",
       "14999   63   173.0    79.0      18.0        92.0       40.5      98.0   \n",
       "\n",
       "       Gender_index  \n",
       "0                 0  \n",
       "1                 1  \n",
       "2                 0  \n",
       "3                 1  \n",
       "4                 1  \n",
       "...             ...  \n",
       "14995             1  \n",
       "14996             1  \n",
       "14997             1  \n",
       "14998             0  \n",
       "14999             0  \n",
       "\n",
       "[15000 rows x 8 columns]"
      ]
     },
     "execution_count": 24,
     "metadata": {},
     "output_type": "execute_result"
    }
   ],
   "source": [
    "exercise_df"
   ]
  },
  {
   "cell_type": "code",
   "execution_count": 25,
   "id": "9fa05867",
   "metadata": {},
   "outputs": [
    {
     "data": {
      "text/html": [
       "<div>\n",
       "<style scoped>\n",
       "    .dataframe tbody tr th:only-of-type {\n",
       "        vertical-align: middle;\n",
       "    }\n",
       "\n",
       "    .dataframe tbody tr th {\n",
       "        vertical-align: top;\n",
       "    }\n",
       "\n",
       "    .dataframe thead th {\n",
       "        text-align: right;\n",
       "    }\n",
       "</style>\n",
       "<table border=\"1\" class=\"dataframe\">\n",
       "  <thead>\n",
       "    <tr style=\"text-align: right;\">\n",
       "      <th></th>\n",
       "      <th>Age</th>\n",
       "      <th>Height</th>\n",
       "      <th>Weight</th>\n",
       "      <th>Duration</th>\n",
       "      <th>Heart_Rate</th>\n",
       "      <th>Body_Temp</th>\n",
       "      <th>Gender_index</th>\n",
       "    </tr>\n",
       "  </thead>\n",
       "  <tbody>\n",
       "    <tr>\n",
       "      <th>0</th>\n",
       "      <td>68</td>\n",
       "      <td>190.0</td>\n",
       "      <td>94.0</td>\n",
       "      <td>29.0</td>\n",
       "      <td>105.0</td>\n",
       "      <td>40.8</td>\n",
       "      <td>0</td>\n",
       "    </tr>\n",
       "    <tr>\n",
       "      <th>1</th>\n",
       "      <td>20</td>\n",
       "      <td>166.0</td>\n",
       "      <td>60.0</td>\n",
       "      <td>14.0</td>\n",
       "      <td>94.0</td>\n",
       "      <td>40.3</td>\n",
       "      <td>1</td>\n",
       "    </tr>\n",
       "    <tr>\n",
       "      <th>2</th>\n",
       "      <td>69</td>\n",
       "      <td>179.0</td>\n",
       "      <td>79.0</td>\n",
       "      <td>5.0</td>\n",
       "      <td>88.0</td>\n",
       "      <td>38.7</td>\n",
       "      <td>0</td>\n",
       "    </tr>\n",
       "    <tr>\n",
       "      <th>3</th>\n",
       "      <td>34</td>\n",
       "      <td>179.0</td>\n",
       "      <td>71.0</td>\n",
       "      <td>13.0</td>\n",
       "      <td>100.0</td>\n",
       "      <td>40.5</td>\n",
       "      <td>1</td>\n",
       "    </tr>\n",
       "    <tr>\n",
       "      <th>4</th>\n",
       "      <td>27</td>\n",
       "      <td>154.0</td>\n",
       "      <td>58.0</td>\n",
       "      <td>10.0</td>\n",
       "      <td>81.0</td>\n",
       "      <td>39.8</td>\n",
       "      <td>1</td>\n",
       "    </tr>\n",
       "    <tr>\n",
       "      <th>...</th>\n",
       "      <td>...</td>\n",
       "      <td>...</td>\n",
       "      <td>...</td>\n",
       "      <td>...</td>\n",
       "      <td>...</td>\n",
       "      <td>...</td>\n",
       "      <td>...</td>\n",
       "    </tr>\n",
       "    <tr>\n",
       "      <th>14995</th>\n",
       "      <td>20</td>\n",
       "      <td>193.0</td>\n",
       "      <td>86.0</td>\n",
       "      <td>11.0</td>\n",
       "      <td>92.0</td>\n",
       "      <td>40.4</td>\n",
       "      <td>1</td>\n",
       "    </tr>\n",
       "    <tr>\n",
       "      <th>14996</th>\n",
       "      <td>27</td>\n",
       "      <td>165.0</td>\n",
       "      <td>65.0</td>\n",
       "      <td>6.0</td>\n",
       "      <td>85.0</td>\n",
       "      <td>39.2</td>\n",
       "      <td>1</td>\n",
       "    </tr>\n",
       "    <tr>\n",
       "      <th>14997</th>\n",
       "      <td>43</td>\n",
       "      <td>159.0</td>\n",
       "      <td>58.0</td>\n",
       "      <td>16.0</td>\n",
       "      <td>90.0</td>\n",
       "      <td>40.1</td>\n",
       "      <td>1</td>\n",
       "    </tr>\n",
       "    <tr>\n",
       "      <th>14998</th>\n",
       "      <td>78</td>\n",
       "      <td>193.0</td>\n",
       "      <td>97.0</td>\n",
       "      <td>2.0</td>\n",
       "      <td>84.0</td>\n",
       "      <td>38.3</td>\n",
       "      <td>0</td>\n",
       "    </tr>\n",
       "    <tr>\n",
       "      <th>14999</th>\n",
       "      <td>63</td>\n",
       "      <td>173.0</td>\n",
       "      <td>79.0</td>\n",
       "      <td>18.0</td>\n",
       "      <td>92.0</td>\n",
       "      <td>40.5</td>\n",
       "      <td>0</td>\n",
       "    </tr>\n",
       "  </tbody>\n",
       "</table>\n",
       "<p>15000 rows × 7 columns</p>\n",
       "</div>"
      ],
      "text/plain": [
       "       Age  Height  Weight  Duration  Heart_Rate  Body_Temp  Gender_index\n",
       "0       68   190.0    94.0      29.0       105.0       40.8             0\n",
       "1       20   166.0    60.0      14.0        94.0       40.3             1\n",
       "2       69   179.0    79.0       5.0        88.0       38.7             0\n",
       "3       34   179.0    71.0      13.0       100.0       40.5             1\n",
       "4       27   154.0    58.0      10.0        81.0       39.8             1\n",
       "...    ...     ...     ...       ...         ...        ...           ...\n",
       "14995   20   193.0    86.0      11.0        92.0       40.4             1\n",
       "14996   27   165.0    65.0       6.0        85.0       39.2             1\n",
       "14997   43   159.0    58.0      16.0        90.0       40.1             1\n",
       "14998   78   193.0    97.0       2.0        84.0       38.3             0\n",
       "14999   63   173.0    79.0      18.0        92.0       40.5             0\n",
       "\n",
       "[15000 rows x 7 columns]"
      ]
     },
     "execution_count": 25,
     "metadata": {},
     "output_type": "execute_result"
    }
   ],
   "source": [
    "x=exercise_df.drop('Calories',axis='columns')\n",
    "x"
   ]
  },
  {
   "cell_type": "code",
   "execution_count": 26,
   "id": "cb70cb6b",
   "metadata": {},
   "outputs": [
    {
     "data": {
      "text/plain": [
       "0        231.0\n",
       "1         66.0\n",
       "2         26.0\n",
       "3         71.0\n",
       "4         35.0\n",
       "         ...  \n",
       "14995     45.0\n",
       "14996     23.0\n",
       "14997     75.0\n",
       "14998     11.0\n",
       "14999     98.0\n",
       "Name: Calories, Length: 15000, dtype: float64"
      ]
     },
     "execution_count": 26,
     "metadata": {},
     "output_type": "execute_result"
    }
   ],
   "source": [
    "y=exercise_df.Calories\n",
    "y"
   ]
  },
  {
   "cell_type": "code",
   "execution_count": 27,
   "id": "3bbb265f",
   "metadata": {},
   "outputs": [
    {
     "data": {
      "text/plain": [
       "<Axes: >"
      ]
     },
     "execution_count": 27,
     "metadata": {},
     "output_type": "execute_result"
    },
    {
     "data": {
      "image/png": "[encoded data removed]",
      "text/plain": [
       "<Figure size 1000x1000 with 2 Axes>"
      ]
     },
     "metadata": {},
     "output_type": "display_data"
    }
   ],
   "source": [
    "correlation = exercise_df.corr()\n",
    "plt.figure(figsize=(10,10))\n",
    "sns.heatmap(correlation, cbar=True, square=True, fmt='.1f', annot=True, annot_kws={'size':8}, cmap='Blues')"
   ]
  },
  {
   "cell_type": "code",
   "execution_count": 28,
   "id": "dbd0f95f",
   "metadata": {},
   "outputs": [],
   "source": [
    "x_train, x_test, y_train, y_test = train_test_split(x, y, test_size=0.2, random_state=2)"
   ]
  },
  {
   "cell_type": "code",
   "execution_count": 29,
   "id": "7c66a49b",
   "metadata": {},
   "outputs": [
    {
     "data": {
      "text/html": [
       "<div>\n",
       "<style scoped>\n",
       "    .dataframe tbody tr th:only-of-type {\n",
       "        vertical-align: middle;\n",
       "    }\n",
       "\n",
       "    .dataframe tbody tr th {\n",
       "        vertical-align: top;\n",
       "    }\n",
       "\n",
       "    .dataframe thead th {\n",
       "        text-align: right;\n",
       "    }\n",
       "</style>\n",
       "<table border=\"1\" class=\"dataframe\">\n",
       "  <thead>\n",
       "    <tr style=\"text-align: right;\">\n",
       "      <th></th>\n",
       "      <th>Age</th>\n",
       "      <th>Height</th>\n",
       "      <th>Weight</th>\n",
       "      <th>Duration</th>\n",
       "      <th>Heart_Rate</th>\n",
       "      <th>Body_Temp</th>\n",
       "      <th>Gender_index</th>\n",
       "    </tr>\n",
       "  </thead>\n",
       "  <tbody>\n",
       "    <tr>\n",
       "      <th>1154</th>\n",
       "      <td>38</td>\n",
       "      <td>169.0</td>\n",
       "      <td>67.0</td>\n",
       "      <td>3.0</td>\n",
       "      <td>85.0</td>\n",
       "      <td>38.5</td>\n",
       "      <td>1</td>\n",
       "    </tr>\n",
       "    <tr>\n",
       "      <th>9804</th>\n",
       "      <td>30</td>\n",
       "      <td>194.0</td>\n",
       "      <td>96.0</td>\n",
       "      <td>9.0</td>\n",
       "      <td>91.0</td>\n",
       "      <td>39.6</td>\n",
       "      <td>0</td>\n",
       "    </tr>\n",
       "    <tr>\n",
       "      <th>7919</th>\n",
       "      <td>78</td>\n",
       "      <td>182.0</td>\n",
       "      <td>79.0</td>\n",
       "      <td>7.0</td>\n",
       "      <td>84.0</td>\n",
       "      <td>39.4</td>\n",
       "      <td>1</td>\n",
       "    </tr>\n",
       "    <tr>\n",
       "      <th>4854</th>\n",
       "      <td>50</td>\n",
       "      <td>171.0</td>\n",
       "      <td>77.0</td>\n",
       "      <td>29.0</td>\n",
       "      <td>111.0</td>\n",
       "      <td>40.8</td>\n",
       "      <td>0</td>\n",
       "    </tr>\n",
       "    <tr>\n",
       "      <th>5947</th>\n",
       "      <td>32</td>\n",
       "      <td>172.0</td>\n",
       "      <td>66.0</td>\n",
       "      <td>29.0</td>\n",
       "      <td>105.0</td>\n",
       "      <td>40.8</td>\n",
       "      <td>1</td>\n",
       "    </tr>\n",
       "    <tr>\n",
       "      <th>...</th>\n",
       "      <td>...</td>\n",
       "      <td>...</td>\n",
       "      <td>...</td>\n",
       "      <td>...</td>\n",
       "      <td>...</td>\n",
       "      <td>...</td>\n",
       "      <td>...</td>\n",
       "    </tr>\n",
       "    <tr>\n",
       "      <th>11798</th>\n",
       "      <td>49</td>\n",
       "      <td>178.0</td>\n",
       "      <td>71.0</td>\n",
       "      <td>12.0</td>\n",
       "      <td>98.0</td>\n",
       "      <td>39.9</td>\n",
       "      <td>1</td>\n",
       "    </tr>\n",
       "    <tr>\n",
       "      <th>13896</th>\n",
       "      <td>67</td>\n",
       "      <td>159.0</td>\n",
       "      <td>58.0</td>\n",
       "      <td>23.0</td>\n",
       "      <td>101.0</td>\n",
       "      <td>40.4</td>\n",
       "      <td>1</td>\n",
       "    </tr>\n",
       "    <tr>\n",
       "      <th>6637</th>\n",
       "      <td>25</td>\n",
       "      <td>167.0</td>\n",
       "      <td>64.0</td>\n",
       "      <td>20.0</td>\n",
       "      <td>100.0</td>\n",
       "      <td>40.4</td>\n",
       "      <td>1</td>\n",
       "    </tr>\n",
       "    <tr>\n",
       "      <th>2575</th>\n",
       "      <td>36</td>\n",
       "      <td>167.0</td>\n",
       "      <td>64.0</td>\n",
       "      <td>28.0</td>\n",
       "      <td>108.0</td>\n",
       "      <td>40.8</td>\n",
       "      <td>1</td>\n",
       "    </tr>\n",
       "    <tr>\n",
       "      <th>7336</th>\n",
       "      <td>30</td>\n",
       "      <td>187.0</td>\n",
       "      <td>88.0</td>\n",
       "      <td>10.0</td>\n",
       "      <td>94.0</td>\n",
       "      <td>40.2</td>\n",
       "      <td>0</td>\n",
       "    </tr>\n",
       "  </tbody>\n",
       "</table>\n",
       "<p>12000 rows × 7 columns</p>\n",
       "</div>"
      ],
      "text/plain": [
       "       Age  Height  Weight  Duration  Heart_Rate  Body_Temp  Gender_index\n",
       "1154    38   169.0    67.0       3.0        85.0       38.5             1\n",
       "9804    30   194.0    96.0       9.0        91.0       39.6             0\n",
       "7919    78   182.0    79.0       7.0        84.0       39.4             1\n",
       "4854    50   171.0    77.0      29.0       111.0       40.8             0\n",
       "5947    32   172.0    66.0      29.0       105.0       40.8             1\n",
       "...    ...     ...     ...       ...         ...        ...           ...\n",
       "11798   49   178.0    71.0      12.0        98.0       39.9             1\n",
       "13896   67   159.0    58.0      23.0       101.0       40.4             1\n",
       "6637    25   167.0    64.0      20.0       100.0       40.4             1\n",
       "2575    36   167.0    64.0      28.0       108.0       40.8             1\n",
       "7336    30   187.0    88.0      10.0        94.0       40.2             0\n",
       "\n",
       "[12000 rows x 7 columns]"
      ]
     },
     "execution_count": 29,
     "metadata": {},
     "output_type": "execute_result"
    }
   ],
   "source": [
    "x_train"
   ]
  },
  {
   "cell_type": "code",
   "execution_count": 30,
   "id": "8b32a098",
   "metadata": {},
   "outputs": [
    {
     "data": {
      "text/html": [
       "<div>\n",
       "<style scoped>\n",
       "    .dataframe tbody tr th:only-of-type {\n",
       "        vertical-align: middle;\n",
       "    }\n",
       "\n",
       "    .dataframe tbody tr th {\n",
       "        vertical-align: top;\n",
       "    }\n",
       "\n",
       "    .dataframe thead th {\n",
       "        text-align: right;\n",
       "    }\n",
       "</style>\n",
       "<table border=\"1\" class=\"dataframe\">\n",
       "  <thead>\n",
       "    <tr style=\"text-align: right;\">\n",
       "      <th></th>\n",
       "      <th>Age</th>\n",
       "      <th>Height</th>\n",
       "      <th>Weight</th>\n",
       "      <th>Duration</th>\n",
       "      <th>Heart_Rate</th>\n",
       "      <th>Body_Temp</th>\n",
       "      <th>Gender_index</th>\n",
       "    </tr>\n",
       "  </thead>\n",
       "  <tbody>\n",
       "    <tr>\n",
       "      <th>7592</th>\n",
       "      <td>41</td>\n",
       "      <td>172.0</td>\n",
       "      <td>74.0</td>\n",
       "      <td>24.0</td>\n",
       "      <td>98.0</td>\n",
       "      <td>40.8</td>\n",
       "      <td>1</td>\n",
       "    </tr>\n",
       "    <tr>\n",
       "      <th>3551</th>\n",
       "      <td>70</td>\n",
       "      <td>189.0</td>\n",
       "      <td>96.0</td>\n",
       "      <td>24.0</td>\n",
       "      <td>113.0</td>\n",
       "      <td>40.9</td>\n",
       "      <td>0</td>\n",
       "    </tr>\n",
       "    <tr>\n",
       "      <th>9698</th>\n",
       "      <td>53</td>\n",
       "      <td>173.0</td>\n",
       "      <td>68.0</td>\n",
       "      <td>7.0</td>\n",
       "      <td>96.0</td>\n",
       "      <td>39.3</td>\n",
       "      <td>1</td>\n",
       "    </tr>\n",
       "    <tr>\n",
       "      <th>3759</th>\n",
       "      <td>36</td>\n",
       "      <td>191.0</td>\n",
       "      <td>96.0</td>\n",
       "      <td>2.0</td>\n",
       "      <td>82.0</td>\n",
       "      <td>38.4</td>\n",
       "      <td>0</td>\n",
       "    </tr>\n",
       "    <tr>\n",
       "      <th>2353</th>\n",
       "      <td>46</td>\n",
       "      <td>169.0</td>\n",
       "      <td>68.0</td>\n",
       "      <td>20.0</td>\n",
       "      <td>111.0</td>\n",
       "      <td>40.6</td>\n",
       "      <td>1</td>\n",
       "    </tr>\n",
       "    <tr>\n",
       "      <th>...</th>\n",
       "      <td>...</td>\n",
       "      <td>...</td>\n",
       "      <td>...</td>\n",
       "      <td>...</td>\n",
       "      <td>...</td>\n",
       "      <td>...</td>\n",
       "      <td>...</td>\n",
       "    </tr>\n",
       "    <tr>\n",
       "      <th>8859</th>\n",
       "      <td>20</td>\n",
       "      <td>161.0</td>\n",
       "      <td>60.0</td>\n",
       "      <td>29.0</td>\n",
       "      <td>107.0</td>\n",
       "      <td>40.3</td>\n",
       "      <td>1</td>\n",
       "    </tr>\n",
       "    <tr>\n",
       "      <th>2886</th>\n",
       "      <td>40</td>\n",
       "      <td>152.0</td>\n",
       "      <td>49.0</td>\n",
       "      <td>11.0</td>\n",
       "      <td>87.0</td>\n",
       "      <td>39.8</td>\n",
       "      <td>1</td>\n",
       "    </tr>\n",
       "    <tr>\n",
       "      <th>14357</th>\n",
       "      <td>57</td>\n",
       "      <td>160.0</td>\n",
       "      <td>62.0</td>\n",
       "      <td>23.0</td>\n",
       "      <td>103.0</td>\n",
       "      <td>40.2</td>\n",
       "      <td>1</td>\n",
       "    </tr>\n",
       "    <tr>\n",
       "      <th>9430</th>\n",
       "      <td>58</td>\n",
       "      <td>171.0</td>\n",
       "      <td>67.0</td>\n",
       "      <td>6.0</td>\n",
       "      <td>82.0</td>\n",
       "      <td>39.4</td>\n",
       "      <td>1</td>\n",
       "    </tr>\n",
       "    <tr>\n",
       "      <th>11870</th>\n",
       "      <td>62</td>\n",
       "      <td>175.0</td>\n",
       "      <td>70.0</td>\n",
       "      <td>17.0</td>\n",
       "      <td>94.0</td>\n",
       "      <td>40.3</td>\n",
       "      <td>1</td>\n",
       "    </tr>\n",
       "  </tbody>\n",
       "</table>\n",
       "<p>3000 rows × 7 columns</p>\n",
       "</div>"
      ],
      "text/plain": [
       "       Age  Height  Weight  Duration  Heart_Rate  Body_Temp  Gender_index\n",
       "7592    41   172.0    74.0      24.0        98.0       40.8             1\n",
       "3551    70   189.0    96.0      24.0       113.0       40.9             0\n",
       "9698    53   173.0    68.0       7.0        96.0       39.3             1\n",
       "3759    36   191.0    96.0       2.0        82.0       38.4             0\n",
       "2353    46   169.0    68.0      20.0       111.0       40.6             1\n",
       "...    ...     ...     ...       ...         ...        ...           ...\n",
       "8859    20   161.0    60.0      29.0       107.0       40.3             1\n",
       "2886    40   152.0    49.0      11.0        87.0       39.8             1\n",
       "14357   57   160.0    62.0      23.0       103.0       40.2             1\n",
       "9430    58   171.0    67.0       6.0        82.0       39.4             1\n",
       "11870   62   175.0    70.0      17.0        94.0       40.3             1\n",
       "\n",
       "[3000 rows x 7 columns]"
      ]
     },
     "execution_count": 30,
     "metadata": {},
     "output_type": "execute_result"
    }
   ],
   "source": [
    "x_test"
   ]
  },
  {
   "cell_type": "code",
   "execution_count": 31,
   "id": "d5289c38",
   "metadata": {},
   "outputs": [],
   "source": [
    "model = XGBRegressor()"
   ]
  },
  {
   "cell_type": "code",
   "execution_count": 32,
   "id": "41ce5ceb",
   "metadata": {},
   "outputs": [
    {
     "data": {
      "text/html": [
       "<style>#sk-container-id-1 {color: black;}#sk-container-id-1 pre{padding: 0;}#sk-container-id-1 div.sk-toggleable {background-color: white;}#sk-container-id-1 label.sk-toggleable__label {cursor: pointer;display: block;width: 100%;margin-bottom: 0;padding: 0.3em;box-sizing: border-box;text-align: center;}#sk-container-id-1 label.sk-toggleable__label-arrow:before {content: \"▸\";float: left;margin-right: 0.25em;color: #696969;}#sk-container-id-1 label.sk-toggleable__label-arrow:hover:before {color: black;}#sk-container-id-1 div.sk-estimator:hover label.sk-toggleable__label-arrow:before {color: black;}#sk-container-id-1 div.sk-toggleable__content {max-height: 0;max-width: 0;overflow: hidden;text-align: left;background-color: #f0f8ff;}#sk-container-id-1 div.sk-toggleable__content pre {margin: 0.2em;color: black;border-radius: 0.25em;background-color: #f0f8ff;}#sk-container-id-1 input.sk-toggleable__control:checked~div.sk-toggleable__content {max-height: 200px;max-width: 100%;overflow: auto;}#sk-container-id-1 input.sk-toggleable__control:checked~label.sk-toggleable__label-arrow:before {content: \"▾\";}#sk-container-id-1 div.sk-estimator input.sk-toggleable__control:checked~label.sk-toggleable__label {background-color: #d4ebff;}#sk-container-id-1 div.sk-label input.sk-toggleable__control:checked~label.sk-toggleable__label {background-color: #d4ebff;}#sk-container-id-1 input.sk-hidden--visually {border: 0;clip: rect(1px 1px 1px 1px);clip: rect(1px, 1px, 1px, 1px);height: 1px;margin: -1px;overflow: hidden;padding: 0;position: absolute;width: 1px;}#sk-container-id-1 div.sk-estimator {font-family: monospace;background-color: #f0f8ff;border: 1px dotted black;border-radius: 0.25em;box-sizing: border-box;margin-bottom: 0.5em;}#sk-container-id-1 div.sk-estimator:hover {background-color: #d4ebff;}#sk-container-id-1 div.sk-parallel-item::after {content: \"\";width: 100%;border-bottom: 1px solid gray;flex-grow: 1;}#sk-container-id-1 div.sk-label:hover label.sk-toggleable__label {background-color: #d4ebff;}#sk-container-id-1 div.sk-serial::before {content: \"\";position: absolute;border-left: 1px solid gray;box-sizing: border-box;top: 0;bottom: 0;left: 50%;z-index: 0;}#sk-container-id-1 div.sk-serial {display: flex;flex-direction: column;align-items: center;background-color: white;padding-right: 0.2em;padding-left: 0.2em;position: relative;}#sk-container-id-1 div.sk-item {position: relative;z-index: 1;}#sk-container-id-1 div.sk-parallel {display: flex;align-items: stretch;justify-content: center;background-color: white;position: relative;}#sk-container-id-1 div.sk-item::before, #sk-container-id-1 div.sk-parallel-item::before {content: \"\";position: absolute;border-left: 1px solid gray;box-sizing: border-box;top: 0;bottom: 0;left: 50%;z-index: -1;}#sk-container-id-1 div.sk-parallel-item {display: flex;flex-direction: column;z-index: 1;position: relative;background-color: white;}#sk-container-id-1 div.sk-parallel-item:first-child::after {align-self: flex-end;width: 50%;}#sk-container-id-1 div.sk-parallel-item:last-child::after {align-self: flex-start;width: 50%;}#sk-container-id-1 div.sk-parallel-item:only-child::after {width: 0;}#sk-container-id-1 div.sk-dashed-wrapped {border: 1px dashed gray;margin: 0 0.4em 0.5em 0.4em;box-sizing: border-box;padding-bottom: 0.4em;background-color: white;}#sk-container-id-1 div.sk-label label {font-family: monospace;font-weight: bold;display: inline-block;line-height: 1.2em;}#sk-container-id-1 div.sk-label-container {text-align: center;}#sk-container-id-1 div.sk-container {/* jupyter's `normalize.less` sets `[hidden] { display: none; }` but bootstrap.min.css set `[hidden] { display: none !important; }` so we also need the `!important` here to be able to override the default hidden behavior on the sphinx rendered scikit-learn.org. See: https://github.com/scikit-learn/scikit-learn/issues/21755 */display: inline-block !important;position: relative;}#sk-container-id-1 div.sk-text-repr-fallback {display: none;}</style><div id=\"sk-container-id-1\" class=\"sk-top-container\"><div class=\"sk-text-repr-fallback\"><pre>XGBRegressor(base_score=None, booster=None, callbacks=None,\n",
       "             colsample_bylevel=None, colsample_bynode=None,\n",
       "             colsample_bytree=None, device=None, early_stopping_rounds=None,\n",
       "             enable_categorical=False, eval_metric=None, feature_types=None,\n",
       "             gamma=None, grow_policy=None, importance_type=None,\n",
       "             interaction_constraints=None, learning_rate=None, max_bin=None,\n",
       "             max_cat_threshold=None, max_cat_to_onehot=None,\n",
       "             max_delta_step=None, max_depth=None, max_leaves=None,\n",
       "             min_child_weight=None, missing=nan, monotone_constraints=None,\n",
       "             multi_strategy=None, n_estimators=None, n_jobs=None,\n",
       "             num_parallel_tree=None, random_state=None, ...)</pre><b>In a Jupyter environment, please rerun this cell to show the HTML representation or trust the notebook. <br />On GitHub, the HTML representation is unable to render, please try loading this page with nbviewer.org.</b></div><div class=\"sk-container\" hidden><div class=\"sk-item\"><div class=\"sk-estimator sk-toggleable\"><input class=\"sk-toggleable__control sk-hidden--visually\" id=\"sk-estimator-id-1\" type=\"checkbox\" checked><label for=\"sk-estimator-id-1\" class=\"sk-toggleable__label sk-toggleable__label-arrow\">XGBRegressor</label><div class=\"sk-toggleable__content\"><pre>XGBRegressor(base_score=None, booster=None, callbacks=None,\n",
       "             colsample_bylevel=None, colsample_bynode=None,\n",
       "             colsample_bytree=None, device=None, early_stopping_rounds=None,\n",
       "             enable_categorical=False, eval_metric=None, feature_types=None,\n",
       "             gamma=None, grow_policy=None, importance_type=None,\n",
       "             interaction_constraints=None, learning_rate=None, max_bin=None,\n",
       "             max_cat_threshold=None, max_cat_to_onehot=None,\n",
       "             max_delta_step=None, max_depth=None, max_leaves=None,\n",
       "             min_child_weight=None, missing=nan, monotone_constraints=None,\n",
       "             multi_strategy=None, n_estimators=None, n_jobs=None,\n",
       "             num_parallel_tree=None, random_state=None, ...)</pre></div></div></div></div></div>"
      ],
      "text/plain": [
       "XGBRegressor(base_score=None, booster=None, callbacks=None,\n",
       "             colsample_bylevel=None, colsample_bynode=None,\n",
       "             colsample_bytree=None, device=None, early_stopping_rounds=None,\n",
       "             enable_categorical=False, eval_metric=None, feature_types=None,\n",
       "             gamma=None, grow_policy=None, importance_type=None,\n",
       "             interaction_constraints=None, learning_rate=None, max_bin=None,\n",
       "             max_cat_threshold=None, max_cat_to_onehot=None,\n",
       "             max_delta_step=None, max_depth=None, max_leaves=None,\n",
       "             min_child_weight=None, missing=nan, monotone_constraints=None,\n",
       "             multi_strategy=None, n_estimators=None, n_jobs=None,\n",
       "             num_parallel_tree=None, random_state=None, ...)"
      ]
     },
     "execution_count": 32,
     "metadata": {},
     "output_type": "execute_result"
    }
   ],
   "source": [
    "model.fit(x_train, y_train)"
   ]
  },
  {
   "cell_type": "code",
   "execution_count": 33,
   "id": "22f5e33d",
   "metadata": {},
   "outputs": [
    {
     "data": {
      "text/plain": [
       "array([125.58828 , 222.11377 ,  38.725952, ..., 144.3179  ,  23.425894,\n",
       "        90.100494], dtype=float32)"
      ]
     },
     "execution_count": 33,
     "metadata": {},
     "output_type": "execute_result"
    }
   ],
   "source": [
    "p = model.predict(x_test)\n",
    "p"
   ]
  },
  {
   "cell_type": "code",
   "execution_count": 34,
   "id": "c0858ad1",
   "metadata": {},
   "outputs": [
    {
     "data": {
      "text/plain": [
       "7592     127.0\n",
       "3551     224.0\n",
       "9698      38.0\n",
       "3759       6.0\n",
       "2353     137.0\n",
       "         ...  \n",
       "8859     177.0\n",
       "2886      49.0\n",
       "14357    145.0\n",
       "9430      24.0\n",
       "11870     90.0\n",
       "Name: Calories, Length: 3000, dtype: float64"
      ]
     },
     "execution_count": 34,
     "metadata": {},
     "output_type": "execute_result"
    }
   ],
   "source": [
    "y_test"
   ]
  },
  {
   "cell_type": "code",
   "execution_count": 35,
   "id": "015c8ffd",
   "metadata": {},
   "outputs": [
    {
     "name": "stdout",
     "output_type": "stream",
     "text": [
      "Mean Absolute Error =  1.4836762582858403\n"
     ]
    }
   ],
   "source": [
    "mae = metrics.mean_absolute_error(y_test, p)\n",
    "print(\"Mean Absolute Error = \", mae)"
   ]
  },
  {
   "cell_type": "code",
   "execution_count": 36,
   "id": "22312753",
   "metadata": {},
   "outputs": [
    {
     "name": "stdout",
     "output_type": "stream",
     "text": [
      "mean square error=  4.715038363064073\n"
     ]
    }
   ],
   "source": [
    "mse=mean_squared_error(y_test, p)\n",
    "print(\"mean square error= \", mse)"
   ]
  },
  {
   "cell_type": "code",
   "execution_count": 38,
   "id": "85d2dbab",
   "metadata": {},
   "outputs": [
    {
     "data": {
      "text/plain": [
       "0.9995691477017405"
      ]
     },
     "execution_count": 38,
     "metadata": {},
     "output_type": "execute_result"
    }
   ],
   "source": [
    "model.score(x_train,y_train)"
   ]
  },
  {
   "cell_type": "code",
   "execution_count": 39,
   "id": "98811a6e",
   "metadata": {},
   "outputs": [
    {
     "data": {
      "text/plain": [
       "0.998799522480255"
      ]
     },
     "execution_count": 39,
     "metadata": {},
     "output_type": "execute_result"
    }
   ],
   "source": [
    "model.score(x_test,y_test)"
   ]
  },
  {
   "cell_type": "code",
   "execution_count": 40,
   "id": "e50a1071",
   "metadata": {},
   "outputs": [
    {
     "data": {
      "text/html": [
       "<style>#sk-container-id-2 {color: black;}#sk-container-id-2 pre{padding: 0;}#sk-container-id-2 div.sk-toggleable {background-color: white;}#sk-container-id-2 label.sk-toggleable__label {cursor: pointer;display: block;width: 100%;margin-bottom: 0;padding: 0.3em;box-sizing: border-box;text-align: center;}#sk-container-id-2 label.sk-toggleable__label-arrow:before {content: \"▸\";float: left;margin-right: 0.25em;color: #696969;}#sk-container-id-2 label.sk-toggleable__label-arrow:hover:before {color: black;}#sk-container-id-2 div.sk-estimator:hover label.sk-toggleable__label-arrow:before {color: black;}#sk-container-id-2 div.sk-toggleable__content {max-height: 0;max-width: 0;overflow: hidden;text-align: left;background-color: #f0f8ff;}#sk-container-id-2 div.sk-toggleable__content pre {margin: 0.2em;color: black;border-radius: 0.25em;background-color: #f0f8ff;}#sk-container-id-2 input.sk-toggleable__control:checked~div.sk-toggleable__content {max-height: 200px;max-width: 100%;overflow: auto;}#sk-container-id-2 input.sk-toggleable__control:checked~label.sk-toggleable__label-arrow:before {content: \"▾\";}#sk-container-id-2 div.sk-estimator input.sk-toggleable__control:checked~label.sk-toggleable__label {background-color: #d4ebff;}#sk-container-id-2 div.sk-label input.sk-toggleable__control:checked~label.sk-toggleable__label {background-color: #d4ebff;}#sk-container-id-2 input.sk-hidden--visually {border: 0;clip: rect(1px 1px 1px 1px);clip: rect(1px, 1px, 1px, 1px);height: 1px;margin: -1px;overflow: hidden;padding: 0;position: absolute;width: 1px;}#sk-container-id-2 div.sk-estimator {font-family: monospace;background-color: #f0f8ff;border: 1px dotted black;border-radius: 0.25em;box-sizing: border-box;margin-bottom: 0.5em;}#sk-container-id-2 div.sk-estimator:hover {background-color: #d4ebff;}#sk-container-id-2 div.sk-parallel-item::after {content: \"\";width: 100%;border-bottom: 1px solid gray;flex-grow: 1;}#sk-container-id-2 div.sk-label:hover label.sk-toggleable__label {background-color: #d4ebff;}#sk-container-id-2 div.sk-serial::before {content: \"\";position: absolute;border-left: 1px solid gray;box-sizing: border-box;top: 0;bottom: 0;left: 50%;z-index: 0;}#sk-container-id-2 div.sk-serial {display: flex;flex-direction: column;align-items: center;background-color: white;padding-right: 0.2em;padding-left: 0.2em;position: relative;}#sk-container-id-2 div.sk-item {position: relative;z-index: 1;}#sk-container-id-2 div.sk-parallel {display: flex;align-items: stretch;justify-content: center;background-color: white;position: relative;}#sk-container-id-2 div.sk-item::before, #sk-container-id-2 div.sk-parallel-item::before {content: \"\";position: absolute;border-left: 1px solid gray;box-sizing: border-box;top: 0;bottom: 0;left: 50%;z-index: -1;}#sk-container-id-2 div.sk-parallel-item {display: flex;flex-direction: column;z-index: 1;position: relative;background-color: white;}#sk-container-id-2 div.sk-parallel-item:first-child::after {align-self: flex-end;width: 50%;}#sk-container-id-2 div.sk-parallel-item:last-child::after {align-self: flex-start;width: 50%;}#sk-container-id-2 div.sk-parallel-item:only-child::after {width: 0;}#sk-container-id-2 div.sk-dashed-wrapped {border: 1px dashed gray;margin: 0 0.4em 0.5em 0.4em;box-sizing: border-box;padding-bottom: 0.4em;background-color: white;}#sk-container-id-2 div.sk-label label {font-family: monospace;font-weight: bold;display: inline-block;line-height: 1.2em;}#sk-container-id-2 div.sk-label-container {text-align: center;}#sk-container-id-2 div.sk-container {/* jupyter's `normalize.less` sets `[hidden] { display: none; }` but bootstrap.min.css set `[hidden] { display: none !important; }` so we also need the `!important` here to be able to override the default hidden behavior on the sphinx rendered scikit-learn.org. See: https://github.com/scikit-learn/scikit-learn/issues/21755 */display: inline-block !important;position: relative;}#sk-container-id-2 div.sk-text-repr-fallback {display: none;}</style><div id=\"sk-container-id-2\" class=\"sk-top-container\"><div class=\"sk-text-repr-fallback\"><pre>LinearRegression()</pre><b>In a Jupyter environment, please rerun this cell to show the HTML representation or trust the notebook. <br />On GitHub, the HTML representation is unable to render, please try loading this page with nbviewer.org.</b></div><div class=\"sk-container\" hidden><div class=\"sk-item\"><div class=\"sk-estimator sk-toggleable\"><input class=\"sk-toggleable__control sk-hidden--visually\" id=\"sk-estimator-id-2\" type=\"checkbox\" checked><label for=\"sk-estimator-id-2\" class=\"sk-toggleable__label sk-toggleable__label-arrow\">LinearRegression</label><div class=\"sk-toggleable__content\"><pre>LinearRegression()</pre></div></div></div></div></div>"
      ],
      "text/plain": [
       "LinearRegression()"
      ]
     },
     "execution_count": 40,
     "metadata": {},
     "output_type": "execute_result"
    }
   ],
   "source": [
    "from sklearn.linear_model import LinearRegression\n",
    "lrModel=LinearRegression()\n",
    "lrModel.fit(x_train,y_train)"
   ]
  },
  {
   "cell_type": "code",
   "execution_count": 41,
   "id": "ab998ca3",
   "metadata": {},
   "outputs": [
    {
     "data": {
      "text/plain": [
       "array([137.49241057, 182.18166512,  50.15864741, ..., 157.56637167,\n",
       "        16.54924422, 100.21047087])"
      ]
     },
     "execution_count": 41,
     "metadata": {},
     "output_type": "execute_result"
    }
   ],
   "source": [
    "p=lrModel.predict(x_test)\n",
    "p"
   ]
  },
  {
   "cell_type": "code",
   "execution_count": 42,
   "id": "e8ce00f7-b041-4b93-acd6-8006e56cebac",
   "metadata": {},
   "outputs": [
    {
     "data": {
      "text/plain": [
       "7592     127.0\n",
       "3551     224.0\n",
       "9698      38.0\n",
       "3759       6.0\n",
       "2353     137.0\n",
       "         ...  \n",
       "8859     177.0\n",
       "2886      49.0\n",
       "14357    145.0\n",
       "9430      24.0\n",
       "11870     90.0\n",
       "Name: Calories, Length: 3000, dtype: float64"
      ]
     },
     "execution_count": 42,
     "metadata": {},
     "output_type": "execute_result"
    }
   ],
   "source": [
    "y_test"
   ]
  },
  {
   "cell_type": "code",
   "execution_count": 43,
   "id": "76902d9d-83f0-4ed1-980a-302d96d2375f",
   "metadata": {},
   "outputs": [
    {
     "data": {
      "text/plain": [
       "0.9672762198112508"
      ]
     },
     "execution_count": 43,
     "metadata": {},
     "output_type": "execute_result"
    }
   ],
   "source": [
    "lrModel.score(x_train,y_train)"
   ]
  },
  {
   "cell_type": "code",
   "execution_count": 44,
   "id": "152863d6-39c8-44d9-8aca-a20a2191622a",
   "metadata": {},
   "outputs": [
    {
     "data": {
      "text/plain": [
       "0.9668790377181355"
      ]
     },
     "execution_count": 44,
     "metadata": {},
     "output_type": "execute_result"
    }
   ],
   "source": [
    "lrModel.score(x_test,y_test)"
   ]
  },
  {
   "cell_type": "code",
   "execution_count": 45,
   "id": "6fce008a-679a-4fdb-a5be-0aafecd1e0ed",
   "metadata": {},
   "outputs": [
    {
     "data": {
      "text/plain": [
       "array([  0.4971492 ,  -0.19413313,   0.31333848,   6.64043789,\n",
       "         1.98718175, -17.09094547,   1.4198873 ])"
      ]
     },
     "execution_count": 45,
     "metadata": {},
     "output_type": "execute_result"
    }
   ],
   "source": [
    "lrModel.coef_"
   ]
  },
  {
   "cell_type": "code",
   "execution_count": 46,
   "id": "68ea148a-48ad-4f3e-a9a5-4bcad8a4a955",
   "metadata": {},
   "outputs": [
    {
     "data": {
      "text/plain": [
       "469.089511093263"
      ]
     },
     "execution_count": 46,
     "metadata": {},
     "output_type": "execute_result"
    }
   ],
   "source": [
    "lrModel.intercept_"
   ]
  },
  {
   "cell_type": "code",
   "execution_count": 47,
   "id": "2ed48e69-bb46-4de0-9ab3-395c2d0e1ff1",
   "metadata": {},
   "outputs": [
    {
     "data": {
      "text/plain": [
       "array([132.33100875])"
      ]
     },
     "execution_count": 47,
     "metadata": {},
     "output_type": "execute_result"
    }
   ],
   "source": [
    "lrModel.predict([[80,160.0,75.0,20.0,65.0,37.0,1]])"
   ]
  },
  {
   "cell_type": "code",
   "execution_count": 48,
   "id": "72cfc93f-50cd-417b-b348-754b4a9edb3e",
   "metadata": {},
   "outputs": [
    {
     "data": {
      "text/plain": [
       "array([157.11265551])"
      ]
     },
     "execution_count": 48,
     "metadata": {},
     "output_type": "execute_result"
    }
   ],
   "source": [
    "lrModel.predict([[21,181.0,76.0,20.0,100.0,37.6,0]])"
   ]
  },
  {
   "cell_type": "code",
   "execution_count": 49,
   "id": "b6fdf8bc",
   "metadata": {},
   "outputs": [
    {
     "name": "stdout",
     "output_type": "stream",
     "text": [
      "Mean Absolute Error =  8.385188053147209\n"
     ]
    }
   ],
   "source": [
    "mae = metrics.mean_absolute_error(y_test, p)\n",
    "print(\"Mean Absolute Error = \", mae)\n"
   ]
  },
  {
   "cell_type": "code",
   "execution_count": null,
   "id": "da1e8bfd",
   "metadata": {},
   "outputs": [],
   "source": [
    "mse=mean_squared_error(y_test, p)\n",
    "print(\"mean square error= \", mse)"
   ]
  }
 ],
 "metadata": {
  "kernelspec": {
   "display_name": "Python 3 (ipykernel)",
   "language": "python",
   "name": "python3"
  },
  "language_info": {
   "codemirror_mode": {
    "name": "ipython",
    "version": 3
   },
   "file_extension": ".py",
   "mimetype": "text/x-python",
   "name": "python",
   "nbconvert_exporter": "python",
   "pygments_lexer": "ipython3",
   "version": "3.11.5"
  }
 },
 "nbformat": 4,
 "nbformat_minor": 5
}
